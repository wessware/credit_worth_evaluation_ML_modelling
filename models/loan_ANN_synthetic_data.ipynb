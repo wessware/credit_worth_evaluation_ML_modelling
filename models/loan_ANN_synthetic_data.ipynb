{
 "cells": [
  {
   "cell_type": "markdown",
   "metadata": {},
   "source": [
    "Import what will be needed for the exercise"
   ]
  },
  {
   "cell_type": "code",
   "execution_count": 1,
   "metadata": {},
   "outputs": [],
   "source": [
    "import numpy as np\n",
    "import pandas as pd\n",
    "import matplotlib\n",
    "import matplotlib.pyplot as plt \n",
    "import sklearn\n",
    "import csv\n",
    "import math\n",
    "from sklearn import preprocessing\n",
    "from sklearn.preprocessing import LabelEncoder\n",
    "from sklearn.preprocessing import StandardScaler\n",
    "from sklearn.model_selection import train_test_split\n",
    "from sklearn.metrics import mean_absolute_error\n",
    "from sklearn.metrics import mean_squared_error\n",
    "from sklearn.preprocessing import MinMaxScaler\n",
    "\n",
    "from numpy.random import seed\n",
    "import tensorflow\n",
    "tensorflow.random.set_seed(1)\n",
    "from tensorflow.python.keras.layers import Dense\n",
    "from tensorflow.keras.layers import Dropout\n",
    "from tensorflow.python.keras.models import Sequential\n",
    "from tensorflow.python.keras import regularizers\n",
    "from tensorflow.python.keras import metrics\n",
    "from tensorflow.keras.models import load_model"
   ]
  },
  {
   "cell_type": "code",
   "execution_count": 2,
   "metadata": {},
   "outputs": [],
   "source": [
    "import seaborn as sns \n",
    "sns.set_style('darkgrid')\n",
    "matplotlib.rcParams['font.size'] = 14\n",
    "matplotlib.rcParams['figure.figsize'] = (10, 6)\n",
    "matplotlib.rcParams['figure.facecolor'] = '#000000'"
   ]
  },
  {
   "cell_type": "code",
   "execution_count": 3,
   "metadata": {},
   "outputs": [],
   "source": [
    "#load the dataset\n",
    "loan_data = pd.read_csv('../datasets/synthesized_loan_data.csv')"
   ]
  },
  {
   "cell_type": "code",
   "execution_count": 4,
   "metadata": {},
   "outputs": [
    {
     "data": {
      "text/html": [
       "<div>\n",
       "<style scoped>\n",
       "    .dataframe tbody tr th:only-of-type {\n",
       "        vertical-align: middle;\n",
       "    }\n",
       "\n",
       "    .dataframe tbody tr th {\n",
       "        vertical-align: top;\n",
       "    }\n",
       "\n",
       "    .dataframe thead th {\n",
       "        text-align: right;\n",
       "    }\n",
       "</style>\n",
       "<table border=\"1\" class=\"dataframe\">\n",
       "  <thead>\n",
       "    <tr style=\"text-align: right;\">\n",
       "      <th></th>\n",
       "      <th>Gender</th>\n",
       "      <th>Married</th>\n",
       "      <th>Dependents</th>\n",
       "      <th>Education</th>\n",
       "      <th>Self_Employed</th>\n",
       "      <th>ApplicantIncome</th>\n",
       "      <th>CoapplicantIncome</th>\n",
       "      <th>LoanAmount</th>\n",
       "      <th>Loan_Amount_Term</th>\n",
       "      <th>Credit_History</th>\n",
       "      <th>Property_Area</th>\n",
       "      <th>Loan_Status</th>\n",
       "    </tr>\n",
       "  </thead>\n",
       "  <tbody>\n",
       "    <tr>\n",
       "      <th>0</th>\n",
       "      <td>1</td>\n",
       "      <td>1</td>\n",
       "      <td>1.015491</td>\n",
       "      <td>0</td>\n",
       "      <td>0</td>\n",
       "      <td>60</td>\n",
       "      <td>2263.426739</td>\n",
       "      <td>120.264574</td>\n",
       "      <td>362.034926</td>\n",
       "      <td>0.999618</td>\n",
       "      <td>2</td>\n",
       "      <td>1</td>\n",
       "    </tr>\n",
       "    <tr>\n",
       "      <th>1</th>\n",
       "      <td>1</td>\n",
       "      <td>1</td>\n",
       "      <td>2.793550</td>\n",
       "      <td>1</td>\n",
       "      <td>2</td>\n",
       "      <td>299</td>\n",
       "      <td>207.078743</td>\n",
       "      <td>97.333547</td>\n",
       "      <td>185.855127</td>\n",
       "      <td>0.994450</td>\n",
       "      <td>1</td>\n",
       "      <td>1</td>\n",
       "    </tr>\n",
       "    <tr>\n",
       "      <th>2</th>\n",
       "      <td>0</td>\n",
       "      <td>0</td>\n",
       "      <td>1.020575</td>\n",
       "      <td>0</td>\n",
       "      <td>1</td>\n",
       "      <td>497</td>\n",
       "      <td>-222.105153</td>\n",
       "      <td>98.957504</td>\n",
       "      <td>361.411489</td>\n",
       "      <td>0.999132</td>\n",
       "      <td>0</td>\n",
       "      <td>1</td>\n",
       "    </tr>\n",
       "    <tr>\n",
       "      <th>3</th>\n",
       "      <td>1</td>\n",
       "      <td>1</td>\n",
       "      <td>0.967628</td>\n",
       "      <td>0</td>\n",
       "      <td>0</td>\n",
       "      <td>35</td>\n",
       "      <td>1874.200797</td>\n",
       "      <td>141.121981</td>\n",
       "      <td>360.427013</td>\n",
       "      <td>0.999273</td>\n",
       "      <td>2</td>\n",
       "      <td>1</td>\n",
       "    </tr>\n",
       "    <tr>\n",
       "      <th>4</th>\n",
       "      <td>1</td>\n",
       "      <td>1</td>\n",
       "      <td>1.929354</td>\n",
       "      <td>0</td>\n",
       "      <td>0</td>\n",
       "      <td>340</td>\n",
       "      <td>47.080906</td>\n",
       "      <td>322.936778</td>\n",
       "      <td>360.013915</td>\n",
       "      <td>0.979882</td>\n",
       "      <td>0</td>\n",
       "      <td>1</td>\n",
       "    </tr>\n",
       "    <tr>\n",
       "      <th>...</th>\n",
       "      <td>...</td>\n",
       "      <td>...</td>\n",
       "      <td>...</td>\n",
       "      <td>...</td>\n",
       "      <td>...</td>\n",
       "      <td>...</td>\n",
       "      <td>...</td>\n",
       "      <td>...</td>\n",
       "      <td>...</td>\n",
       "      <td>...</td>\n",
       "      <td>...</td>\n",
       "      <td>...</td>\n",
       "    </tr>\n",
       "    <tr>\n",
       "      <th>3995</th>\n",
       "      <td>1</td>\n",
       "      <td>1</td>\n",
       "      <td>2.118012</td>\n",
       "      <td>0</td>\n",
       "      <td>0</td>\n",
       "      <td>248</td>\n",
       "      <td>2693.049737</td>\n",
       "      <td>176.172212</td>\n",
       "      <td>360.665439</td>\n",
       "      <td>1.007047</td>\n",
       "      <td>1</td>\n",
       "      <td>1</td>\n",
       "    </tr>\n",
       "    <tr>\n",
       "      <th>3996</th>\n",
       "      <td>0</td>\n",
       "      <td>0</td>\n",
       "      <td>-0.002574</td>\n",
       "      <td>0</td>\n",
       "      <td>0</td>\n",
       "      <td>249</td>\n",
       "      <td>1949.728061</td>\n",
       "      <td>117.277610</td>\n",
       "      <td>361.044262</td>\n",
       "      <td>0.986177</td>\n",
       "      <td>1</td>\n",
       "      <td>1</td>\n",
       "    </tr>\n",
       "    <tr>\n",
       "      <th>3997</th>\n",
       "      <td>1</td>\n",
       "      <td>1</td>\n",
       "      <td>0.010152</td>\n",
       "      <td>0</td>\n",
       "      <td>0</td>\n",
       "      <td>300</td>\n",
       "      <td>2882.202092</td>\n",
       "      <td>136.098872</td>\n",
       "      <td>361.722296</td>\n",
       "      <td>0.994603</td>\n",
       "      <td>0</td>\n",
       "      <td>1</td>\n",
       "    </tr>\n",
       "    <tr>\n",
       "      <th>3998</th>\n",
       "      <td>0</td>\n",
       "      <td>1</td>\n",
       "      <td>-0.002625</td>\n",
       "      <td>0</td>\n",
       "      <td>0</td>\n",
       "      <td>385</td>\n",
       "      <td>182.631094</td>\n",
       "      <td>191.733185</td>\n",
       "      <td>360.723093</td>\n",
       "      <td>0.989029</td>\n",
       "      <td>1</td>\n",
       "      <td>0</td>\n",
       "    </tr>\n",
       "    <tr>\n",
       "      <th>3999</th>\n",
       "      <td>1</td>\n",
       "      <td>1</td>\n",
       "      <td>0.007271</td>\n",
       "      <td>0</td>\n",
       "      <td>0</td>\n",
       "      <td>462</td>\n",
       "      <td>2590.286571</td>\n",
       "      <td>119.756303</td>\n",
       "      <td>360.276315</td>\n",
       "      <td>0.997789</td>\n",
       "      <td>1</td>\n",
       "      <td>1</td>\n",
       "    </tr>\n",
       "  </tbody>\n",
       "</table>\n",
       "<p>4000 rows × 12 columns</p>\n",
       "</div>"
      ],
      "text/plain": [
       "      Gender  Married  Dependents  Education  Self_Employed  ApplicantIncome  \\\n",
       "0          1        1    1.015491          0              0               60   \n",
       "1          1        1    2.793550          1              2              299   \n",
       "2          0        0    1.020575          0              1              497   \n",
       "3          1        1    0.967628          0              0               35   \n",
       "4          1        1    1.929354          0              0              340   \n",
       "...      ...      ...         ...        ...            ...              ...   \n",
       "3995       1        1    2.118012          0              0              248   \n",
       "3996       0        0   -0.002574          0              0              249   \n",
       "3997       1        1    0.010152          0              0              300   \n",
       "3998       0        1   -0.002625          0              0              385   \n",
       "3999       1        1    0.007271          0              0              462   \n",
       "\n",
       "      CoapplicantIncome  LoanAmount  Loan_Amount_Term  Credit_History  \\\n",
       "0           2263.426739  120.264574        362.034926        0.999618   \n",
       "1            207.078743   97.333547        185.855127        0.994450   \n",
       "2           -222.105153   98.957504        361.411489        0.999132   \n",
       "3           1874.200797  141.121981        360.427013        0.999273   \n",
       "4             47.080906  322.936778        360.013915        0.979882   \n",
       "...                 ...         ...               ...             ...   \n",
       "3995        2693.049737  176.172212        360.665439        1.007047   \n",
       "3996        1949.728061  117.277610        361.044262        0.986177   \n",
       "3997        2882.202092  136.098872        361.722296        0.994603   \n",
       "3998         182.631094  191.733185        360.723093        0.989029   \n",
       "3999        2590.286571  119.756303        360.276315        0.997789   \n",
       "\n",
       "      Property_Area  Loan_Status  \n",
       "0                 2            1  \n",
       "1                 1            1  \n",
       "2                 0            1  \n",
       "3                 2            1  \n",
       "4                 0            1  \n",
       "...             ...          ...  \n",
       "3995              1            1  \n",
       "3996              1            1  \n",
       "3997              0            1  \n",
       "3998              1            0  \n",
       "3999              1            1  \n",
       "\n",
       "[4000 rows x 12 columns]"
      ]
     },
     "execution_count": 4,
     "metadata": {},
     "output_type": "execute_result"
    }
   ],
   "source": [
    "loan_data"
   ]
  },
  {
   "cell_type": "code",
   "execution_count": 5,
   "metadata": {},
   "outputs": [
    {
     "data": {
      "text/plain": [
       "(4000, 12)"
      ]
     },
     "execution_count": 5,
     "metadata": {},
     "output_type": "execute_result"
    }
   ],
   "source": [
    "loan_data.shape"
   ]
  },
  {
   "cell_type": "markdown",
   "metadata": {},
   "source": [
    "Data Preparation"
   ]
  },
  {
   "cell_type": "code",
   "execution_count": 6,
   "metadata": {},
   "outputs": [],
   "source": [
    "#save the dataset as an array of numerical values\n",
    "loan_data_df = loan_data.values"
   ]
  },
  {
   "cell_type": "code",
   "execution_count": 7,
   "metadata": {},
   "outputs": [
    {
     "data": {
      "text/plain": [
       "array([[ 1.00000000e+00,  1.00000000e+00,  1.01549140e+00, ...,\n",
       "         9.99617663e-01,  2.00000000e+00,  1.00000000e+00],\n",
       "       [ 1.00000000e+00,  1.00000000e+00,  2.79355014e+00, ...,\n",
       "         9.94449593e-01,  1.00000000e+00,  1.00000000e+00],\n",
       "       [ 0.00000000e+00,  0.00000000e+00,  1.02057543e+00, ...,\n",
       "         9.99131735e-01,  0.00000000e+00,  1.00000000e+00],\n",
       "       ...,\n",
       "       [ 1.00000000e+00,  1.00000000e+00,  1.01515374e-02, ...,\n",
       "         9.94602628e-01,  0.00000000e+00,  1.00000000e+00],\n",
       "       [ 0.00000000e+00,  1.00000000e+00, -2.62509894e-03, ...,\n",
       "         9.89028651e-01,  1.00000000e+00,  0.00000000e+00],\n",
       "       [ 1.00000000e+00,  1.00000000e+00,  7.27098969e-03, ...,\n",
       "         9.97789395e-01,  1.00000000e+00,  1.00000000e+00]])"
      ]
     },
     "execution_count": 7,
     "metadata": {},
     "output_type": "execute_result"
    }
   ],
   "source": [
    "loan_data_df"
   ]
  },
  {
   "cell_type": "code",
   "execution_count": 10,
   "metadata": {},
   "outputs": [],
   "source": [
    "#Splitting the dataset into categories. The X category (containing 12 columns) will be used to predict the y category (containing 1 column)\n",
    "X = loan_data_df[:,0:11]"
   ]
  },
  {
   "cell_type": "code",
   "execution_count": 11,
   "metadata": {},
   "outputs": [],
   "source": [
    "y = loan_data_df[:,11]"
   ]
  },
  {
   "cell_type": "code",
   "execution_count": 12,
   "metadata": {},
   "outputs": [
    {
     "data": {
      "text/plain": [
       "array([1., 1., 1., ..., 1., 0., 1.])"
      ]
     },
     "execution_count": 12,
     "metadata": {},
     "output_type": "execute_result"
    }
   ],
   "source": [
    "y"
   ]
  },
  {
   "cell_type": "code",
   "execution_count": 13,
   "metadata": {},
   "outputs": [
    {
     "data": {
      "text/plain": [
       "array([[ 1.00000000e+00,  1.00000000e+00,  1.01549140e+00, ...,\n",
       "         3.62034926e+02,  9.99617663e-01,  2.00000000e+00],\n",
       "       [ 1.00000000e+00,  1.00000000e+00,  2.79355014e+00, ...,\n",
       "         1.85855127e+02,  9.94449593e-01,  1.00000000e+00],\n",
       "       [ 0.00000000e+00,  0.00000000e+00,  1.02057543e+00, ...,\n",
       "         3.61411489e+02,  9.99131735e-01,  0.00000000e+00],\n",
       "       ...,\n",
       "       [ 1.00000000e+00,  1.00000000e+00,  1.01515374e-02, ...,\n",
       "         3.61722296e+02,  9.94602628e-01,  0.00000000e+00],\n",
       "       [ 0.00000000e+00,  1.00000000e+00, -2.62509894e-03, ...,\n",
       "         3.60723093e+02,  9.89028651e-01,  1.00000000e+00],\n",
       "       [ 1.00000000e+00,  1.00000000e+00,  7.27098969e-03, ...,\n",
       "         3.60276315e+02,  9.97789395e-01,  1.00000000e+00]])"
      ]
     },
     "execution_count": 13,
     "metadata": {},
     "output_type": "execute_result"
    }
   ],
   "source": [
    "X"
   ]
  },
  {
   "cell_type": "code",
   "execution_count": 14,
   "metadata": {},
   "outputs": [],
   "source": [
    "#Scaling the dataset's X category columns to a smaller-range numerical values\n",
    "scaler = preprocessing.MinMaxScaler()\n",
    "X_scaled = scaler.fit_transform(X)"
   ]
  },
  {
   "cell_type": "code",
   "execution_count": 15,
   "metadata": {},
   "outputs": [],
   "source": [
    "#Split the dataset into training, testing and validation sets. \n",
    "X_train, X_val_and_test, Y_train, Y_val_and_test = train_test_split(X_scaled, y, test_size=0.3)"
   ]
  },
  {
   "cell_type": "code",
   "execution_count": 16,
   "metadata": {},
   "outputs": [],
   "source": [
    "X_val, X_test, Y_val, Y_test = train_test_split(X_val_and_test, Y_val_and_test, test_size=0.5)"
   ]
  },
  {
   "cell_type": "code",
   "execution_count": 17,
   "metadata": {},
   "outputs": [
    {
     "name": "stdout",
     "output_type": "stream",
     "text": [
      "(2800, 11) (600, 11) (600, 11) (2800,) (600,) (600,)\n"
     ]
    }
   ],
   "source": [
    "print(X_train.shape, X_val.shape, X_test.shape, Y_train.shape, Y_val.shape, Y_test.shape)"
   ]
  },
  {
   "cell_type": "code",
   "execution_count": null,
   "metadata": {},
   "outputs": [],
   "source": []
  },
  {
   "cell_type": "markdown",
   "metadata": {},
   "source": [
    "Building the Artificial Neural Network Model(s)"
   ]
  },
  {
   "cell_type": "code",
   "execution_count": 20,
   "metadata": {},
   "outputs": [
    {
     "name": "stdout",
     "output_type": "stream",
     "text": [
      "Model: \"sequential_1\"\n",
      "_________________________________________________________________\n",
      "Layer (type)                 Output Shape              Param #   \n",
      "=================================================================\n",
      "dense_3 (Dense)              (None, 32)                384       \n",
      "_________________________________________________________________\n",
      "dense_4 (Dense)              (None, 32)                1056      \n",
      "_________________________________________________________________\n",
      "dense_5 (Dense)              (None, 1)                 33        \n",
      "=================================================================\n",
      "Total params: 1,473\n",
      "Trainable params: 1,473\n",
      "Non-trainable params: 0\n",
      "_________________________________________________________________\n"
     ]
    }
   ],
   "source": [
    "#THE ARCHITECTURE\n",
    "#Defining A two-layer Neural Network each with 32 Neurons using the Rectified Linear Activation Function (ReLu)\n",
    "#Pass onto the model the 12 columns of the X input category. \n",
    "loan_model = Sequential([\n",
    "    Dense(32, activation='relu', input_shape=(11,)),\n",
    "    Dense(32, activation='relu'),\n",
    "    Dense(1, activation='sigmoid'),\n",
    "])\n",
    "loan_model.summary()"
   ]
  },
  {
   "cell_type": "code",
   "execution_count": 21,
   "metadata": {},
   "outputs": [],
   "source": [
    "#OPTIMIZATION ALGORITHM FOR THE MODEL, MODEL LOSS FUNCTION, AND LOSS FUNCTION TRACKING METRIC\n",
    "loan_model.compile(optimizer='sgd', loss='binary_crossentropy', metrics=['accuracy'])\n",
    "predictions = loan_model.predict(X_val)"
   ]
  },
  {
   "cell_type": "code",
   "execution_count": 22,
   "metadata": {},
   "outputs": [
    {
     "name": "stdout",
     "output_type": "stream",
     "text": [
      "Epoch 1/100\n",
      "88/88 [==============================] - 3s 9ms/step - loss: 0.6281 - accuracy: 0.6693 - val_loss: 0.5504 - val_accuracy: 0.7850\n",
      "Epoch 2/100\n",
      "88/88 [==============================] - 0s 4ms/step - loss: 0.5129 - accuracy: 0.7893 - val_loss: 0.5062 - val_accuracy: 0.7850\n",
      "Epoch 3/100\n",
      "88/88 [==============================] - 0s 4ms/step - loss: 0.4823 - accuracy: 0.7893 - val_loss: 0.4917 - val_accuracy: 0.7850\n",
      "Epoch 4/100\n",
      "88/88 [==============================] - 0s 4ms/step - loss: 0.4664 - accuracy: 0.7893 - val_loss: 0.4802 - val_accuracy: 0.7850\n",
      "Epoch 5/100\n",
      "88/88 [==============================] - 0s 4ms/step - loss: 0.4512 - accuracy: 0.7893 - val_loss: 0.4680 - val_accuracy: 0.7850\n",
      "Epoch 6/100\n",
      "88/88 [==============================] - 0s 4ms/step - loss: 0.4342 - accuracy: 0.7893 - val_loss: 0.4541 - val_accuracy: 0.7850\n",
      "Epoch 7/100\n",
      "88/88 [==============================] - 0s 4ms/step - loss: 0.4158 - accuracy: 0.7907 - val_loss: 0.4390 - val_accuracy: 0.7867\n",
      "Epoch 8/100\n",
      "88/88 [==============================] - 0s 4ms/step - loss: 0.3967 - accuracy: 0.8050 - val_loss: 0.4233 - val_accuracy: 0.8017\n",
      "Epoch 9/100\n",
      "88/88 [==============================] - 0s 4ms/step - loss: 0.3777 - accuracy: 0.8254 - val_loss: 0.4069 - val_accuracy: 0.8183\n",
      "Epoch 10/100\n",
      "88/88 [==============================] - 0s 4ms/step - loss: 0.3589 - accuracy: 0.8525 - val_loss: 0.3908 - val_accuracy: 0.8317\n",
      "Epoch 11/100\n",
      "88/88 [==============================] - 0s 4ms/step - loss: 0.3413 - accuracy: 0.8693 - val_loss: 0.3762 - val_accuracy: 0.8500\n",
      "Epoch 12/100\n",
      "88/88 [==============================] - 0s 4ms/step - loss: 0.3256 - accuracy: 0.8804 - val_loss: 0.3634 - val_accuracy: 0.8583\n",
      "Epoch 13/100\n",
      "88/88 [==============================] - 0s 4ms/step - loss: 0.3117 - accuracy: 0.8886 - val_loss: 0.3522 - val_accuracy: 0.8650\n",
      "Epoch 14/100\n",
      "88/88 [==============================] - 0s 4ms/step - loss: 0.2999 - accuracy: 0.8954 - val_loss: 0.3435 - val_accuracy: 0.8733\n",
      "Epoch 15/100\n",
      "88/88 [==============================] - 0s 4ms/step - loss: 0.2898 - accuracy: 0.9000 - val_loss: 0.3367 - val_accuracy: 0.8750\n",
      "Epoch 16/100\n",
      "88/88 [==============================] - 0s 3ms/step - loss: 0.2815 - accuracy: 0.9025 - val_loss: 0.3275 - val_accuracy: 0.8883\n",
      "Epoch 17/100\n",
      "88/88 [==============================] - 0s 3ms/step - loss: 0.2745 - accuracy: 0.9046 - val_loss: 0.3240 - val_accuracy: 0.8917\n",
      "Epoch 18/100\n",
      "88/88 [==============================] - 0s 4ms/step - loss: 0.2689 - accuracy: 0.9054 - val_loss: 0.3199 - val_accuracy: 0.8917\n",
      "Epoch 19/100\n",
      "88/88 [==============================] - 0s 3ms/step - loss: 0.2643 - accuracy: 0.9064 - val_loss: 0.3165 - val_accuracy: 0.8917\n",
      "Epoch 20/100\n",
      "88/88 [==============================] - 0s 3ms/step - loss: 0.2603 - accuracy: 0.9064 - val_loss: 0.3154 - val_accuracy: 0.8917\n",
      "Epoch 21/100\n",
      "88/88 [==============================] - 0s 4ms/step - loss: 0.2568 - accuracy: 0.9079 - val_loss: 0.3150 - val_accuracy: 0.8917\n",
      "Epoch 22/100\n",
      "88/88 [==============================] - 0s 3ms/step - loss: 0.2539 - accuracy: 0.9079 - val_loss: 0.3106 - val_accuracy: 0.8950\n",
      "Epoch 23/100\n",
      "88/88 [==============================] - 0s 3ms/step - loss: 0.2521 - accuracy: 0.9075 - val_loss: 0.3104 - val_accuracy: 0.8950\n",
      "Epoch 24/100\n",
      "88/88 [==============================] - 0s 3ms/step - loss: 0.2500 - accuracy: 0.9071 - val_loss: 0.3088 - val_accuracy: 0.8967\n",
      "Epoch 25/100\n",
      "88/88 [==============================] - 0s 3ms/step - loss: 0.2487 - accuracy: 0.9079 - val_loss: 0.3104 - val_accuracy: 0.8933\n",
      "Epoch 26/100\n",
      "88/88 [==============================] - 0s 3ms/step - loss: 0.2469 - accuracy: 0.9075 - val_loss: 0.3059 - val_accuracy: 0.9000\n",
      "Epoch 27/100\n",
      "88/88 [==============================] - 0s 3ms/step - loss: 0.2461 - accuracy: 0.9075 - val_loss: 0.3094 - val_accuracy: 0.8967\n",
      "Epoch 28/100\n",
      "88/88 [==============================] - 0s 3ms/step - loss: 0.2446 - accuracy: 0.9082 - val_loss: 0.3081 - val_accuracy: 0.8983\n",
      "Epoch 29/100\n",
      "88/88 [==============================] - 0s 3ms/step - loss: 0.2439 - accuracy: 0.9068 - val_loss: 0.3065 - val_accuracy: 0.9000\n",
      "Epoch 30/100\n",
      "88/88 [==============================] - 0s 3ms/step - loss: 0.2430 - accuracy: 0.9075 - val_loss: 0.3078 - val_accuracy: 0.8983\n",
      "Epoch 31/100\n",
      "88/88 [==============================] - 0s 3ms/step - loss: 0.2420 - accuracy: 0.9096 - val_loss: 0.3099 - val_accuracy: 0.8950\n",
      "Epoch 32/100\n",
      "88/88 [==============================] - 0s 3ms/step - loss: 0.2415 - accuracy: 0.9089 - val_loss: 0.3111 - val_accuracy: 0.8950\n",
      "Epoch 33/100\n",
      "88/88 [==============================] - 0s 4ms/step - loss: 0.2412 - accuracy: 0.9068 - val_loss: 0.3066 - val_accuracy: 0.9000\n",
      "Epoch 34/100\n",
      "88/88 [==============================] - 0s 3ms/step - loss: 0.2408 - accuracy: 0.9093 - val_loss: 0.3075 - val_accuracy: 0.8983\n",
      "Epoch 35/100\n",
      "88/88 [==============================] - 0s 3ms/step - loss: 0.2398 - accuracy: 0.9107 - val_loss: 0.3129 - val_accuracy: 0.8933\n",
      "Epoch 36/100\n",
      "88/88 [==============================] - 0s 3ms/step - loss: 0.2392 - accuracy: 0.9104 - val_loss: 0.3061 - val_accuracy: 0.9000\n",
      "Epoch 37/100\n",
      "88/88 [==============================] - 0s 3ms/step - loss: 0.2394 - accuracy: 0.9104 - val_loss: 0.3073 - val_accuracy: 0.8983\n",
      "Epoch 38/100\n",
      "88/88 [==============================] - 0s 3ms/step - loss: 0.2388 - accuracy: 0.9096 - val_loss: 0.3096 - val_accuracy: 0.8967\n",
      "Epoch 39/100\n",
      "88/88 [==============================] - 0s 3ms/step - loss: 0.2382 - accuracy: 0.9111 - val_loss: 0.3088 - val_accuracy: 0.8967\n",
      "Epoch 40/100\n",
      "88/88 [==============================] - 0s 3ms/step - loss: 0.2381 - accuracy: 0.9093 - val_loss: 0.3077 - val_accuracy: 0.9000\n",
      "Epoch 41/100\n",
      "88/88 [==============================] - 0s 3ms/step - loss: 0.2376 - accuracy: 0.9132 - val_loss: 0.3092 - val_accuracy: 0.8967\n",
      "Epoch 42/100\n",
      "88/88 [==============================] - 0s 3ms/step - loss: 0.2374 - accuracy: 0.9111 - val_loss: 0.3064 - val_accuracy: 0.9000\n",
      "Epoch 43/100\n",
      "88/88 [==============================] - 0s 3ms/step - loss: 0.2372 - accuracy: 0.9104 - val_loss: 0.3080 - val_accuracy: 0.8983\n",
      "Epoch 44/100\n",
      "88/88 [==============================] - 0s 3ms/step - loss: 0.2369 - accuracy: 0.9111 - val_loss: 0.3085 - val_accuracy: 0.8983\n",
      "Epoch 45/100\n",
      "88/88 [==============================] - 0s 3ms/step - loss: 0.2366 - accuracy: 0.9096 - val_loss: 0.3064 - val_accuracy: 0.9000\n",
      "Epoch 46/100\n",
      "88/88 [==============================] - 0s 3ms/step - loss: 0.2367 - accuracy: 0.9104 - val_loss: 0.3075 - val_accuracy: 0.9000\n",
      "Epoch 47/100\n",
      "88/88 [==============================] - 0s 3ms/step - loss: 0.2362 - accuracy: 0.9111 - val_loss: 0.3067 - val_accuracy: 0.9000\n",
      "Epoch 48/100\n",
      "88/88 [==============================] - 0s 3ms/step - loss: 0.2360 - accuracy: 0.9107 - val_loss: 0.3102 - val_accuracy: 0.8983\n",
      "Epoch 49/100\n",
      "88/88 [==============================] - 0s 3ms/step - loss: 0.2358 - accuracy: 0.9104 - val_loss: 0.3086 - val_accuracy: 0.9000\n",
      "Epoch 50/100\n",
      "88/88 [==============================] - 0s 3ms/step - loss: 0.2355 - accuracy: 0.9114 - val_loss: 0.3085 - val_accuracy: 0.9000\n",
      "Epoch 51/100\n",
      "88/88 [==============================] - 0s 3ms/step - loss: 0.2354 - accuracy: 0.9125 - val_loss: 0.3082 - val_accuracy: 0.9000\n",
      "Epoch 52/100\n",
      "88/88 [==============================] - 0s 3ms/step - loss: 0.2352 - accuracy: 0.9118 - val_loss: 0.3069 - val_accuracy: 0.9017\n",
      "Epoch 53/100\n",
      "88/88 [==============================] - 0s 3ms/step - loss: 0.2354 - accuracy: 0.9118 - val_loss: 0.3072 - val_accuracy: 0.9017\n",
      "Epoch 54/100\n",
      "88/88 [==============================] - 0s 3ms/step - loss: 0.2351 - accuracy: 0.9104 - val_loss: 0.3090 - val_accuracy: 0.9000\n",
      "Epoch 55/100\n",
      "88/88 [==============================] - 0s 3ms/step - loss: 0.2349 - accuracy: 0.9121 - val_loss: 0.3089 - val_accuracy: 0.9000\n",
      "Epoch 56/100\n",
      "88/88 [==============================] - 0s 3ms/step - loss: 0.2348 - accuracy: 0.9118 - val_loss: 0.3108 - val_accuracy: 0.9000\n",
      "Epoch 57/100\n",
      "88/88 [==============================] - 0s 5ms/step - loss: 0.2347 - accuracy: 0.9121 - val_loss: 0.3117 - val_accuracy: 0.8983\n",
      "Epoch 58/100\n",
      "88/88 [==============================] - 0s 3ms/step - loss: 0.2346 - accuracy: 0.9121 - val_loss: 0.3075 - val_accuracy: 0.9000\n",
      "Epoch 59/100\n",
      "88/88 [==============================] - 0s 3ms/step - loss: 0.2345 - accuracy: 0.9121 - val_loss: 0.3088 - val_accuracy: 0.9017\n",
      "Epoch 60/100\n",
      "88/88 [==============================] - 0s 3ms/step - loss: 0.2343 - accuracy: 0.9118 - val_loss: 0.3102 - val_accuracy: 0.9000\n",
      "Epoch 61/100\n",
      "88/88 [==============================] - 0s 3ms/step - loss: 0.2340 - accuracy: 0.9136 - val_loss: 0.3093 - val_accuracy: 0.9017\n",
      "Epoch 62/100\n",
      "88/88 [==============================] - 0s 3ms/step - loss: 0.2343 - accuracy: 0.9125 - val_loss: 0.3109 - val_accuracy: 0.8983\n",
      "Epoch 63/100\n",
      "88/88 [==============================] - 0s 3ms/step - loss: 0.2338 - accuracy: 0.9132 - val_loss: 0.3077 - val_accuracy: 0.9033\n",
      "Epoch 64/100\n",
      "88/88 [==============================] - 0s 3ms/step - loss: 0.2341 - accuracy: 0.9114 - val_loss: 0.3075 - val_accuracy: 0.9017\n",
      "Epoch 65/100\n",
      "88/88 [==============================] - 0s 3ms/step - loss: 0.2337 - accuracy: 0.9129 - val_loss: 0.3093 - val_accuracy: 0.9017\n",
      "Epoch 66/100\n",
      "88/88 [==============================] - 0s 3ms/step - loss: 0.2338 - accuracy: 0.9129 - val_loss: 0.3088 - val_accuracy: 0.9050\n",
      "Epoch 67/100\n",
      "88/88 [==============================] - 0s 3ms/step - loss: 0.2337 - accuracy: 0.9129 - val_loss: 0.3098 - val_accuracy: 0.9000\n",
      "Epoch 68/100\n",
      "88/88 [==============================] - 0s 3ms/step - loss: 0.2334 - accuracy: 0.9143 - val_loss: 0.3109 - val_accuracy: 0.8967\n",
      "Epoch 69/100\n",
      "88/88 [==============================] - 0s 3ms/step - loss: 0.2329 - accuracy: 0.9136 - val_loss: 0.3107 - val_accuracy: 0.8967\n",
      "Epoch 70/100\n",
      "88/88 [==============================] - 0s 3ms/step - loss: 0.2334 - accuracy: 0.9132 - val_loss: 0.3100 - val_accuracy: 0.8983\n",
      "Epoch 71/100\n",
      "88/88 [==============================] - 0s 3ms/step - loss: 0.2333 - accuracy: 0.9129 - val_loss: 0.3071 - val_accuracy: 0.9033\n",
      "Epoch 72/100\n",
      "88/88 [==============================] - 0s 3ms/step - loss: 0.2331 - accuracy: 0.9154 - val_loss: 0.3087 - val_accuracy: 0.9017\n",
      "Epoch 73/100\n",
      "88/88 [==============================] - 0s 3ms/step - loss: 0.2326 - accuracy: 0.9125 - val_loss: 0.3073 - val_accuracy: 0.9033\n",
      "Epoch 74/100\n",
      "88/88 [==============================] - 0s 3ms/step - loss: 0.2330 - accuracy: 0.9132 - val_loss: 0.3076 - val_accuracy: 0.9033\n",
      "Epoch 75/100\n",
      "88/88 [==============================] - 0s 3ms/step - loss: 0.2324 - accuracy: 0.9150 - val_loss: 0.3098 - val_accuracy: 0.9000\n",
      "Epoch 76/100\n",
      "88/88 [==============================] - 0s 3ms/step - loss: 0.2330 - accuracy: 0.9132 - val_loss: 0.3080 - val_accuracy: 0.9017\n",
      "Epoch 77/100\n",
      "88/88 [==============================] - 0s 3ms/step - loss: 0.2328 - accuracy: 0.9125 - val_loss: 0.3088 - val_accuracy: 0.9033\n",
      "Epoch 78/100\n",
      "88/88 [==============================] - 0s 3ms/step - loss: 0.2325 - accuracy: 0.9129 - val_loss: 0.3073 - val_accuracy: 0.9033\n",
      "Epoch 79/100\n",
      "88/88 [==============================] - 0s 3ms/step - loss: 0.2321 - accuracy: 0.9125 - val_loss: 0.3058 - val_accuracy: 0.9000\n",
      "Epoch 80/100\n",
      "88/88 [==============================] - 0s 3ms/step - loss: 0.2321 - accuracy: 0.9139 - val_loss: 0.3059 - val_accuracy: 0.9033\n",
      "Epoch 81/100\n",
      "88/88 [==============================] - 0s 3ms/step - loss: 0.2325 - accuracy: 0.9136 - val_loss: 0.3056 - val_accuracy: 0.9017\n",
      "Epoch 82/100\n",
      "88/88 [==============================] - 0s 3ms/step - loss: 0.2327 - accuracy: 0.9132 - val_loss: 0.3063 - val_accuracy: 0.9033\n",
      "Epoch 83/100\n",
      "88/88 [==============================] - 0s 3ms/step - loss: 0.2324 - accuracy: 0.9129 - val_loss: 0.3066 - val_accuracy: 0.9033\n",
      "Epoch 84/100\n",
      "88/88 [==============================] - 0s 3ms/step - loss: 0.2320 - accuracy: 0.9118 - val_loss: 0.3063 - val_accuracy: 0.9033\n",
      "Epoch 85/100\n",
      "88/88 [==============================] - 0s 3ms/step - loss: 0.2317 - accuracy: 0.9143 - val_loss: 0.3110 - val_accuracy: 0.8983\n",
      "Epoch 86/100\n",
      "88/88 [==============================] - 0s 3ms/step - loss: 0.2319 - accuracy: 0.9132 - val_loss: 0.3085 - val_accuracy: 0.9033\n",
      "Epoch 87/100\n",
      "88/88 [==============================] - 0s 3ms/step - loss: 0.2316 - accuracy: 0.9136 - val_loss: 0.3078 - val_accuracy: 0.9017\n",
      "Epoch 88/100\n",
      "88/88 [==============================] - 0s 3ms/step - loss: 0.2322 - accuracy: 0.9143 - val_loss: 0.3072 - val_accuracy: 0.9017\n",
      "Epoch 89/100\n",
      "88/88 [==============================] - 0s 3ms/step - loss: 0.2315 - accuracy: 0.9139 - val_loss: 0.3106 - val_accuracy: 0.8983\n",
      "Epoch 90/100\n",
      "88/88 [==============================] - 0s 3ms/step - loss: 0.2317 - accuracy: 0.9143 - val_loss: 0.3058 - val_accuracy: 0.9033\n",
      "Epoch 91/100\n",
      "88/88 [==============================] - 0s 3ms/step - loss: 0.2310 - accuracy: 0.9150 - val_loss: 0.3091 - val_accuracy: 0.9017\n",
      "Epoch 92/100\n",
      "88/88 [==============================] - 0s 3ms/step - loss: 0.2315 - accuracy: 0.9121 - val_loss: 0.3083 - val_accuracy: 0.9017\n",
      "Epoch 93/100\n",
      "88/88 [==============================] - 0s 3ms/step - loss: 0.2311 - accuracy: 0.9136 - val_loss: 0.3049 - val_accuracy: 0.9017\n",
      "Epoch 94/100\n",
      "88/88 [==============================] - 0s 3ms/step - loss: 0.2309 - accuracy: 0.9150 - val_loss: 0.3123 - val_accuracy: 0.8967\n",
      "Epoch 95/100\n",
      "88/88 [==============================] - 0s 3ms/step - loss: 0.2314 - accuracy: 0.9121 - val_loss: 0.3059 - val_accuracy: 0.9017\n",
      "Epoch 96/100\n",
      "88/88 [==============================] - 0s 3ms/step - loss: 0.2310 - accuracy: 0.9146 - val_loss: 0.3055 - val_accuracy: 0.9017\n",
      "Epoch 97/100\n",
      "88/88 [==============================] - 0s 3ms/step - loss: 0.2309 - accuracy: 0.9154 - val_loss: 0.3081 - val_accuracy: 0.9017\n",
      "Epoch 98/100\n",
      "88/88 [==============================] - 0s 3ms/step - loss: 0.2309 - accuracy: 0.9146 - val_loss: 0.3066 - val_accuracy: 0.9017\n",
      "Epoch 99/100\n",
      "88/88 [==============================] - 0s 3ms/step - loss: 0.2310 - accuracy: 0.9136 - val_loss: 0.3052 - val_accuracy: 0.9017\n",
      "Epoch 100/100\n",
      "88/88 [==============================] - 0s 3ms/step - loss: 0.2309 - accuracy: 0.9146 - val_loss: 0.3072 - val_accuracy: 0.9017\n"
     ]
    }
   ],
   "source": [
    "#TRAINING THE MODEL\n",
    "hist = loan_model.fit(X_train, Y_train, batch_size=32, epochs=100, validation_data=(X_val, Y_val))"
   ]
  },
  {
   "cell_type": "code",
   "execution_count": 23,
   "metadata": {},
   "outputs": [
    {
     "name": "stdout",
     "output_type": "stream",
     "text": [
      "19/19 [==============================] - 0s 2ms/step - loss: 0.2602 - accuracy: 0.8950\n"
     ]
    },
    {
     "data": {
      "text/plain": [
       "0.8949999809265137"
      ]
     },
     "execution_count": 23,
     "metadata": {},
     "output_type": "execute_result"
    }
   ],
   "source": [
    "#EVALUATING THE MODEL'S PERFORMANCE\n",
    "loan_model.evaluate(X_test, Y_test)[1]"
   ]
  },
  {
   "cell_type": "code",
   "execution_count": 24,
   "metadata": {},
   "outputs": [
    {
     "data": {
      "text/plain": [
       "0.5387919031580289"
      ]
     },
     "execution_count": 24,
     "metadata": {},
     "output_type": "execute_result"
    }
   ],
   "source": [
    "mean_absolute_error(Y_val, predictions)"
   ]
  },
  {
   "cell_type": "code",
   "execution_count": 25,
   "metadata": {},
   "outputs": [
    {
     "data": {
      "text/plain": [
       "0.5423558669170936"
      ]
     },
     "execution_count": 25,
     "metadata": {},
     "output_type": "execute_result"
    }
   ],
   "source": [
    "mean_squared_error(Y_val, predictions)\n",
    "math.sqrt(mean_squared_error(Y_val, predictions))"
   ]
  },
  {
   "cell_type": "code",
   "execution_count": 26,
   "metadata": {},
   "outputs": [
    {
     "data": {
      "text/plain": [
       "0.785"
      ]
     },
     "execution_count": 26,
     "metadata": {},
     "output_type": "execute_result"
    }
   ],
   "source": [
    "np.mean(Y_val)"
   ]
  },
  {
   "cell_type": "code",
   "execution_count": 27,
   "metadata": {},
   "outputs": [
    {
     "data": {
      "text/plain": [
       "0.44060904"
      ]
     },
     "execution_count": 27,
     "metadata": {},
     "output_type": "execute_result"
    }
   ],
   "source": [
    "np.mean(predictions)"
   ]
  },
  {
   "cell_type": "code",
   "execution_count": 28,
   "metadata": {},
   "outputs": [
    {
     "data": {
      "image/png": "[encoded data removed]",
      "text/plain": [
       "<Figure size 720x432 with 1 Axes>"
      ]
     },
     "metadata": {},
     "output_type": "display_data"
    }
   ],
   "source": [
    "#VISUALIZATION OF THE TRAINING LOSS AND THE VALIDATION LOSS FOR THE MODEL\n",
    "plt.plot(hist.history['loss'])\n",
    "plt.plot(hist.history['val_loss'])\n",
    "plt.title('Model loss')\n",
    "plt.ylabel('Loss')\n",
    "plt.xlabel('Epoch')\n",
    "plt.legend(['Train', 'Val'], loc='upper right')\n",
    "plt.show()"
   ]
  },
  {
   "cell_type": "code",
   "execution_count": 29,
   "metadata": {},
   "outputs": [
    {
     "data": {
      "image/png": "[encoded data removed]",
      "text/plain": [
       "<Figure size 720x432 with 1 Axes>"
      ]
     },
     "metadata": {},
     "output_type": "display_data"
    }
   ],
   "source": [
    "#VISUALIZATION OF THE TRAINING ACCURACY AND VALIDATION ACCURACY\n",
    "#FROM THIS GRAPH, THE SIGNIFICANT VARIATION BETWEEN THE TRAINING ACCURACY AND THE VALIDATION ACCURACY SIGNIFIES THAT THE MODEL IS SOMEWHAT OVERFITTING THE DATA. \n",
    "plt.plot(hist.history['accuracy'])\n",
    "plt.plot(hist.history['val_accuracy'])\n",
    "plt.title('Model accuracy')\n",
    "plt.ylabel('Accuracy')\n",
    "plt.xlabel('Epoch')\n",
    "plt.legend(['Train', 'Val'], loc='lower right')\n",
    "plt.show()"
   ]
  },
  {
   "cell_type": "code",
   "execution_count": 32,
   "metadata": {},
   "outputs": [
    {
     "name": "stdout",
     "output_type": "stream",
     "text": [
      "Model: \"sequential_3\"\n",
      "_________________________________________________________________\n",
      "Layer (type)                 Output Shape              Param #   \n",
      "=================================================================\n",
      "dense_11 (Dense)             (None, 1000)              12000     \n",
      "_________________________________________________________________\n",
      "dropout_4 (Dropout)          (None, 1000)              0         \n",
      "_________________________________________________________________\n",
      "dense_12 (Dense)             (None, 1000)              1001000   \n",
      "_________________________________________________________________\n",
      "dropout_5 (Dropout)          (None, 1000)              0         \n",
      "_________________________________________________________________\n",
      "dense_13 (Dense)             (None, 1000)              1001000   \n",
      "_________________________________________________________________\n",
      "dropout_6 (Dropout)          (None, 1000)              0         \n",
      "_________________________________________________________________\n",
      "dense_14 (Dense)             (None, 1000)              1001000   \n",
      "_________________________________________________________________\n",
      "dropout_7 (Dropout)          (None, 1000)              0         \n",
      "_________________________________________________________________\n",
      "dense_15 (Dense)             (None, 1)                 1001      \n",
      "=================================================================\n",
      "Total params: 3,016,001\n",
      "Trainable params: 3,016,001\n",
      "Non-trainable params: 0\n",
      "_________________________________________________________________\n"
     ]
    }
   ],
   "source": [
    "#DEFINING A SECOND MODEL, THAT USES REGULARIZATION TO MINIMIZE OVERFITTING AND IMPROVE THE GENERAL ACCURACY. \n",
    "#THE ARCHITECTURE\n",
    "loan_model_2 = Sequential([\n",
    "    Dense(1000, activation='relu', kernel_regularizer=regularizers.l2(0.01), input_shape=(11,)),\n",
    "    Dropout(0.3),\n",
    "    Dense(1000, activation='relu', kernel_regularizer=regularizers.l2(0.01)),\n",
    "    Dropout(0.3),\n",
    "    Dense(1000, activation='relu', kernel_regularizer=regularizers.l2(0.01)),\n",
    "    Dropout(0.3),\n",
    "    Dense(1000, activation='relu', kernel_regularizer=regularizers.l2(0.01)),\n",
    "    Dropout(0.3),\n",
    "    Dense(1, activation='sigmoid', kernel_regularizer=regularizers.l2(0.01)),\n",
    "])\n",
    "loan_model_2.summary()"
   ]
  },
  {
   "cell_type": "code",
   "execution_count": 33,
   "metadata": {},
   "outputs": [
    {
     "name": "stdout",
     "output_type": "stream",
     "text": [
      "Epoch 1/30\n",
      "28/28 [==============================] - 7s 116ms/step - loss: 15.4954 - accuracy: 0.7832 - val_loss: 5.1545 - val_accuracy: 0.7850\n",
      "Epoch 2/30\n",
      "28/28 [==============================] - 3s 103ms/step - loss: 2.2766 - accuracy: 0.8686 - val_loss: 0.8076 - val_accuracy: 0.8717\n",
      "Epoch 3/30\n",
      "28/28 [==============================] - 3s 105ms/step - loss: 0.5406 - accuracy: 0.8975 - val_loss: 0.4905 - val_accuracy: 0.8817\n",
      "Epoch 4/30\n",
      "28/28 [==============================] - 3s 105ms/step - loss: 0.4199 - accuracy: 0.9029 - val_loss: 0.4475 - val_accuracy: 0.8900\n",
      "Epoch 5/30\n",
      "28/28 [==============================] - 3s 103ms/step - loss: 0.3987 - accuracy: 0.9043 - val_loss: 0.4494 - val_accuracy: 0.8883\n",
      "Epoch 6/30\n",
      "28/28 [==============================] - 3s 104ms/step - loss: 0.3916 - accuracy: 0.9079 - val_loss: 0.4309 - val_accuracy: 0.8967\n",
      "Epoch 7/30\n",
      "28/28 [==============================] - 3s 112ms/step - loss: 0.3938 - accuracy: 0.9061 - val_loss: 0.4296 - val_accuracy: 0.8917\n",
      "Epoch 8/30\n",
      "28/28 [==============================] - 3s 105ms/step - loss: 0.3845 - accuracy: 0.9082 - val_loss: 0.4303 - val_accuracy: 0.8900\n",
      "Epoch 9/30\n",
      "28/28 [==============================] - 3s 106ms/step - loss: 0.3877 - accuracy: 0.9057 - val_loss: 0.4315 - val_accuracy: 0.8917\n",
      "Epoch 10/30\n",
      "28/28 [==============================] - 3s 104ms/step - loss: 0.3847 - accuracy: 0.9125 - val_loss: 0.4406 - val_accuracy: 0.8933\n",
      "Epoch 11/30\n",
      "28/28 [==============================] - 3s 104ms/step - loss: 0.3921 - accuracy: 0.9057 - val_loss: 0.4342 - val_accuracy: 0.8900\n",
      "Epoch 12/30\n",
      "28/28 [==============================] - 3s 104ms/step - loss: 0.3777 - accuracy: 0.9089 - val_loss: 0.4217 - val_accuracy: 0.8933\n",
      "Epoch 13/30\n",
      "28/28 [==============================] - 4s 130ms/step - loss: 0.3781 - accuracy: 0.9093 - val_loss: 0.4668 - val_accuracy: 0.8817\n",
      "Epoch 14/30\n",
      "28/28 [==============================] - 3s 109ms/step - loss: 0.3808 - accuracy: 0.9064 - val_loss: 0.4218 - val_accuracy: 0.8933\n",
      "Epoch 15/30\n",
      "28/28 [==============================] - 3s 106ms/step - loss: 0.3751 - accuracy: 0.9075 - val_loss: 0.4218 - val_accuracy: 0.8900\n",
      "Epoch 16/30\n",
      "28/28 [==============================] - 3s 102ms/step - loss: 0.3752 - accuracy: 0.9071 - val_loss: 0.4290 - val_accuracy: 0.8917\n",
      "Epoch 17/30\n",
      "28/28 [==============================] - 3s 105ms/step - loss: 0.3736 - accuracy: 0.9089 - val_loss: 0.4307 - val_accuracy: 0.8917\n",
      "Epoch 18/30\n",
      "28/28 [==============================] - 3s 105ms/step - loss: 0.3878 - accuracy: 0.9071 - val_loss: 0.4163 - val_accuracy: 0.8933\n",
      "Epoch 19/30\n",
      "28/28 [==============================] - 3s 105ms/step - loss: 0.3793 - accuracy: 0.9093 - val_loss: 0.4196 - val_accuracy: 0.9050\n",
      "Epoch 20/30\n",
      "28/28 [==============================] - 3s 106ms/step - loss: 0.3827 - accuracy: 0.9054 - val_loss: 0.4476 - val_accuracy: 0.8900\n",
      "Epoch 21/30\n",
      "28/28 [==============================] - 3s 113ms/step - loss: 0.3803 - accuracy: 0.9082 - val_loss: 0.4272 - val_accuracy: 0.8900\n",
      "Epoch 22/30\n",
      "28/28 [==============================] - 3s 104ms/step - loss: 0.3783 - accuracy: 0.9071 - val_loss: 0.4133 - val_accuracy: 0.8933\n",
      "Epoch 23/30\n",
      "28/28 [==============================] - 3s 103ms/step - loss: 0.3743 - accuracy: 0.9068 - val_loss: 0.4147 - val_accuracy: 0.8967\n",
      "Epoch 24/30\n",
      "28/28 [==============================] - 3s 112ms/step - loss: 0.3849 - accuracy: 0.9079 - val_loss: 0.4285 - val_accuracy: 0.8900\n",
      "Epoch 25/30\n",
      "28/28 [==============================] - 3s 104ms/step - loss: 0.3748 - accuracy: 0.9079 - val_loss: 0.4144 - val_accuracy: 0.8933\n",
      "Epoch 26/30\n",
      "28/28 [==============================] - 3s 105ms/step - loss: 0.3776 - accuracy: 0.9061 - val_loss: 0.4210 - val_accuracy: 0.8933\n",
      "Epoch 27/30\n",
      "28/28 [==============================] - 3s 107ms/step - loss: 0.3734 - accuracy: 0.9100 - val_loss: 0.4326 - val_accuracy: 0.8900\n",
      "Epoch 28/30\n",
      "28/28 [==============================] - 3s 110ms/step - loss: 0.3717 - accuracy: 0.9104 - val_loss: 0.4138 - val_accuracy: 0.8950\n",
      "Epoch 29/30\n",
      "28/28 [==============================] - 3s 116ms/step - loss: 0.3923 - accuracy: 0.9079 - val_loss: 0.4496 - val_accuracy: 0.8900\n",
      "Epoch 30/30\n",
      "28/28 [==============================] - 3s 112ms/step - loss: 0.3812 - accuracy: 0.9082 - val_loss: 0.4425 - val_accuracy: 0.8900\n"
     ]
    }
   ],
   "source": [
    "loan_model_2.compile(optimizer='adam', loss='binary_crossentropy', metrics=['accuracy'])\n",
    "              \n",
    "hist_2 = loan_model_2.fit(X_train, Y_train, batch_size=100, epochs=30, validation_data=(X_val, Y_val))\n",
    "predictions = loan_model_2.predict(X_val)"
   ]
  },
  {
   "cell_type": "code",
   "execution_count": 34,
   "metadata": {},
   "outputs": [
    {
     "name": "stdout",
     "output_type": "stream",
     "text": [
      "19/19 [==============================] - 1s 19ms/step - loss: 0.4144 - accuracy: 0.8850\n"
     ]
    },
    {
     "data": {
      "text/plain": [
       "0.8849999904632568"
      ]
     },
     "execution_count": 34,
     "metadata": {},
     "output_type": "execute_result"
    }
   ],
   "source": [
    "#MODEL EVALUATION\n",
    "loan_model_2.evaluate(X_test, Y_test)[1]"
   ]
  },
  {
   "cell_type": "code",
   "execution_count": 35,
   "metadata": {},
   "outputs": [
    {
     "data": {
      "image/png": "[encoded data removed]",
      "text/plain": [
       "<Figure size 720x432 with 1 Axes>"
      ]
     },
     "metadata": {},
     "output_type": "display_data"
    }
   ],
   "source": [
    "#VISUALIZATION OF THE TRAINING LOSS AND THE VALIDATION LOSS FOR THE MODEL\n",
    "#CLEARLY, THE MODEL DOES SEEM TO PERFORM BETTER\n",
    "plt.plot(hist_2.history['loss'])\n",
    "plt.plot(hist_2.history['val_loss'])\n",
    "plt.title('Model loss')\n",
    "plt.ylabel('Loss')\n",
    "plt.xlabel('Epoch')\n",
    "plt.legend(['Train', 'Val'], loc='upper right')\n",
    "plt.ylim(top=1.2, bottom=0)\n",
    "plt.show()"
   ]
  },
  {
   "cell_type": "code",
   "execution_count": 36,
   "metadata": {},
   "outputs": [
    {
     "data": {
      "image/png": "[encoded data removed]",
      "text/plain": [
       "<Figure size 720x432 with 1 Axes>"
      ]
     },
     "metadata": {},
     "output_type": "display_data"
    }
   ],
   "source": [
    "#VISUALIZATION OF THE TRAINING ACCURACY AND THE VALIDATION ACCURACY\n",
    "#ALTHOUGH THE MODEL STILL SEEMS TO OVERFIT THE DATA, THERE IS A SIGNIFICANT IMPROVEMENT WHEN COMPARED TO THE FIRST MODEL\n",
    "plt.plot(hist_2.history['accuracy'])\n",
    "plt.plot(hist_2.history['val_accuracy'])\n",
    "plt.title('Model accuracy')\n",
    "plt.ylabel('Accuracy')\n",
    "plt.xlabel('Epoch')\n",
    "plt.legend(['Train', 'Val'], loc='lower right')\n",
    "plt.show()"
   ]
  },
  {
   "cell_type": "code",
   "execution_count": 37,
   "metadata": {},
   "outputs": [
    {
     "data": {
      "text/plain": [
       "0.15857659369707108"
      ]
     },
     "execution_count": 37,
     "metadata": {},
     "output_type": "execute_result"
    }
   ],
   "source": [
    "#THE MODEL ALSO REGISTERS A LOWER MEAN SQUARED ERROR COMPARED TO THE FIRST MODEL. \n",
    "#THE M.A.E IS BIGGER COMPARED TO THE 20% MAE REGISTERED BY THE SVM MODEL\n",
    "mean_absolute_error(Y_val, predictions)"
   ]
  },
  {
   "cell_type": "code",
   "execution_count": 38,
   "metadata": {},
   "outputs": [
    {
     "data": {
      "text/plain": [
       "0.30305234613896836"
      ]
     },
     "execution_count": 38,
     "metadata": {},
     "output_type": "execute_result"
    }
   ],
   "source": [
    "mean_squared_error(Y_val, predictions)\n",
    "math.sqrt(mean_squared_error(Y_val, predictions))"
   ]
  },
  {
   "cell_type": "code",
   "execution_count": 39,
   "metadata": {},
   "outputs": [
    {
     "data": {
      "text/plain": [
       "0.8857143"
      ]
     },
     "execution_count": 39,
     "metadata": {},
     "output_type": "execute_result"
    }
   ],
   "source": [
    "m = metrics.Precision()\n",
    "m.update_state(Y_val, predictions)\n",
    "m.result().numpy()"
   ]
  },
  {
   "cell_type": "code",
   "execution_count": 40,
   "metadata": {},
   "outputs": [
    {
     "data": {
      "text/plain": [
       "0.9872612"
      ]
     },
     "execution_count": 40,
     "metadata": {},
     "output_type": "execute_result"
    }
   ],
   "source": [
    "m_1 = metrics.Recall()\n",
    "m_1.update_state(Y_val, predictions)\n",
    "m_1.result().numpy()"
   ]
  },
  {
   "cell_type": "code",
   "execution_count": 41,
   "metadata": {},
   "outputs": [
    {
     "name": "stdout",
     "output_type": "stream",
     "text": [
      "INFO:tensorflow:Assets written to: loan_determinant_ANN\\assets\n"
     ]
    }
   ],
   "source": [
    "loan_model_2.save('loan_determinant_ANN', save_format='tf')"
   ]
  }
 ],
 "metadata": {
  "interpreter": {
   "hash": "13f38cf28d818ed05ed31d9d4f5b20000160d246f2c83cb873de1fcaec656d23"
  },
  "kernelspec": {
   "display_name": "Python 3.9.7 64-bit (windows store)",
   "name": "python3"
  },
  "language_info": {
   "codemirror_mode": {
    "name": "ipython",
    "version": 3
   },
   "file_extension": ".py",
   "mimetype": "text/x-python",
   "name": "python",
   "nbconvert_exporter": "python",
   "pygments_lexer": "ipython3",
   "version": "3.9.10"
  },
  "orig_nbformat": 4
 },
 "nbformat": 4,
 "nbformat_minor": 2
}
