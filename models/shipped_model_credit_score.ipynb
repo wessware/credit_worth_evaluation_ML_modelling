{
  "nbformat": 4,
  "nbformat_minor": 0,
  "metadata": {
    "colab": {
      "name": "shipped_model_credit_score.ipynb",
      "provenance": [],
      "authorship_tag": "ABX9TyPdNp5E57dP4lovkSe4ojXp",
      "include_colab_link": true
    },
    "kernelspec": {
      "name": "python3",
      "display_name": "Python 3"
    },
    "language_info": {
      "name": "python"
    }
  },
  "cells": [
    {
      "cell_type": "markdown",
      "metadata": {
        "id": "view-in-github",
        "colab_type": "text"
      },
      "source": [
        "<a href=\"https://colab.research.google.com/github/wessware/credit_worth_evaluation_ML_modelling/blob/main/models/shipped_model_credit_score.ipynb\" target=\"_parent\"><img src=\"https://colab.research.google.com/assets/colab-badge.svg\" alt=\"Open In Colab\"/></a>"
      ]
    },
    {
      "cell_type": "code",
      "execution_count": 1,
      "metadata": {
        "id": "4_IUXvEEBT_8"
      },
      "outputs": [],
      "source": [
        "import numpy as np\n",
        "import pandas as pd\n",
        "import matplotlib.pyplot as plt \n",
        "import math\n",
        "import seaborn as sns\n",
        "from sklearn.preprocessing import StandardScaler\n",
        "from sklearn.preprocessing import OneHotEncoder\n",
        "from sklearn.preprocessing import OrdinalEncoder\n",
        "from sklearn.impute import SimpleImputer\n",
        "from sklearn.metrics import classification_report\n",
        "from sklearn.metrics import mean_absolute_error\n",
        "from sklearn.metrics import mean_squared_error\n",
        "from sklearn.metrics import confusion_matrix\n",
        "from sklearn.metrics import accuracy_score\n",
        "from sklearn.model_selection import train_test_split\n",
        "from sklearn.svm import SVC"
      ]
    },
    {
      "cell_type": "code",
      "source": [
        "loan_data_test = pd.read_csv('/content/sample_data/bankrecords.csv')"
      ],
      "metadata": {
        "id": "LkITCRwTCD6l"
      },
      "execution_count": 2,
      "outputs": []
    },
    {
      "cell_type": "code",
      "source": [
        "del loan_data_test['Loan_ID']"
      ],
      "metadata": {
        "id": "Vx2p1LcECdCK"
      },
      "execution_count": 3,
      "outputs": []
    },
    {
      "cell_type": "code",
      "source": [
        "x_ins = loan_data_test.drop(columns =['Loan_Status'])\n",
        "y_ins = loan_data_test['Loan_Status']"
      ],
      "metadata": {
        "id": "6H2gCYTICkui"
      },
      "execution_count": 4,
      "outputs": []
    },
    {
      "cell_type": "code",
      "source": [
        "y = pd.DataFrame(data=y_ins)"
      ],
      "metadata": {
        "id": "-zCqkD6YCpl8"
      },
      "execution_count": 5,
      "outputs": []
    },
    {
      "cell_type": "code",
      "source": [
        "y_num = {'Loan_Status': {'Y' : 1, 'N' : 0}}\n",
        "\n",
        "y = y.replace(y_num)"
      ],
      "metadata": {
        "id": "gJCO2WZWCw7g"
      },
      "execution_count": 7,
      "outputs": []
    },
    {
      "cell_type": "code",
      "source": [
        "numerical_cols = x_ins.select_dtypes(include=np.number).columns.tolist()\n",
        "categorical_cols = x_ins.select_dtypes('object').columns.tolist()"
      ],
      "metadata": {
        "id": "_clc8YPHC448"
      },
      "execution_count": 8,
      "outputs": []
    },
    {
      "cell_type": "code",
      "source": [
        "impute_ins = SimpleImputer(strategy='mean').fit(x_ins[numerical_cols])\n",
        "impute_ins.transform(x_ins[numerical_cols])"
      ],
      "metadata": {
        "colab": {
          "base_uri": "https://localhost:8080/"
        },
        "id": "lt-iE9x9DGni",
        "outputId": "953c53de-7297-4920-d1f6-a1663318a034"
      },
      "execution_count": 9,
      "outputs": [
        {
          "output_type": "execute_result",
          "data": {
            "text/plain": [
              "array([[0.00000000e+00, 5.84900000e+03, 0.00000000e+00, 1.46412162e+02,\n",
              "        3.60000000e+02, 1.00000000e+00],\n",
              "       [1.00000000e+00, 4.58300000e+03, 1.50800000e+03, 1.28000000e+02,\n",
              "        3.60000000e+02, 1.00000000e+00],\n",
              "       [0.00000000e+00, 3.00000000e+03, 0.00000000e+00, 6.60000000e+01,\n",
              "        3.60000000e+02, 1.00000000e+00],\n",
              "       ...,\n",
              "       [1.00000000e+00, 8.07200000e+03, 2.40000000e+02, 2.53000000e+02,\n",
              "        3.60000000e+02, 1.00000000e+00],\n",
              "       [2.00000000e+00, 7.58300000e+03, 0.00000000e+00, 1.87000000e+02,\n",
              "        3.60000000e+02, 1.00000000e+00],\n",
              "       [0.00000000e+00, 4.58300000e+03, 0.00000000e+00, 1.33000000e+02,\n",
              "        3.60000000e+02, 0.00000000e+00]])"
            ]
          },
          "metadata": {},
          "execution_count": 9
        }
      ]
    },
    {
      "cell_type": "code",
      "source": [
        "encode_ins = OneHotEncoder(sparse=False, handle_unknown='ignore').fit(x_ins[categorical_cols])\n",
        "cols_encode_ins = list(encode_ins.get_feature_names_out(categorical_cols))\n",
        "x_ins[cols_encode_ins] = encode_ins.transform(x_ins[categorical_cols])"
      ],
      "metadata": {
        "id": "KkH1DN5-DMiA"
      },
      "execution_count": 11,
      "outputs": []
    },
    {
      "cell_type": "code",
      "source": [
        "loan_data_test_inst = x_ins[numerical_cols + cols_encode_ins]"
      ],
      "metadata": {
        "id": "g5tZUCiuDUMq"
      },
      "execution_count": 12,
      "outputs": []
    },
    {
      "cell_type": "code",
      "source": [
        "loan_missing_1 = loan_data_test_inst.LoanAmount.mean()\n",
        "loan_data_test_inst.LoanAmount = loan_data_test_inst.LoanAmount.fillna(loan_missing_1)"
      ],
      "metadata": {
        "colab": {
          "base_uri": "https://localhost:8080/"
        },
        "id": "E41XjwL2EqZ1",
        "outputId": "3fac1afe-9056-4441-f730-2f2910858693"
      },
      "execution_count": 18,
      "outputs": [
        {
          "output_type": "stream",
          "name": "stderr",
          "text": [
            "/usr/local/lib/python3.7/dist-packages/pandas/core/generic.py:5516: SettingWithCopyWarning: \n",
            "A value is trying to be set on a copy of a slice from a DataFrame.\n",
            "Try using .loc[row_indexer,col_indexer] = value instead\n",
            "\n",
            "See the caveats in the documentation: https://pandas.pydata.org/pandas-docs/stable/user_guide/indexing.html#returning-a-view-versus-a-copy\n",
            "  self[name] = value\n"
          ]
        }
      ]
    },
    {
      "cell_type": "code",
      "source": [
        "loan_missing_2 = loan_data_test_inst.Loan_Amount_Term.median()\n",
        "loan_data_test_inst.Loan_Amount_Term = loan_data_test_inst.Loan_Amount_Term.fillna(loan_missing_2)"
      ],
      "metadata": {
        "colab": {
          "base_uri": "https://localhost:8080/"
        },
        "id": "9Gm3Z6mHEsUz",
        "outputId": "d3d38679-1faf-41a0-91f3-276c12ff7519"
      },
      "execution_count": 19,
      "outputs": [
        {
          "output_type": "stream",
          "name": "stderr",
          "text": [
            "/usr/local/lib/python3.7/dist-packages/pandas/core/generic.py:5516: SettingWithCopyWarning: \n",
            "A value is trying to be set on a copy of a slice from a DataFrame.\n",
            "Try using .loc[row_indexer,col_indexer] = value instead\n",
            "\n",
            "See the caveats in the documentation: https://pandas.pydata.org/pandas-docs/stable/user_guide/indexing.html#returning-a-view-versus-a-copy\n",
            "  self[name] = value\n"
          ]
        }
      ]
    },
    {
      "cell_type": "code",
      "source": [
        "loan_missing_3 = loan_data_test_inst.Dependents.median()\n",
        "loan_data_test_inst.Dependents = loan_data_test_inst.Dependents.fillna(loan_missing_3)"
      ],
      "metadata": {
        "colab": {
          "base_uri": "https://localhost:8080/"
        },
        "id": "06ujoCaQEyaf",
        "outputId": "c8d92cb9-421d-4c9c-dcb2-a06a0933f03f"
      },
      "execution_count": 20,
      "outputs": [
        {
          "output_type": "stream",
          "name": "stderr",
          "text": [
            "/usr/local/lib/python3.7/dist-packages/pandas/core/generic.py:5516: SettingWithCopyWarning: \n",
            "A value is trying to be set on a copy of a slice from a DataFrame.\n",
            "Try using .loc[row_indexer,col_indexer] = value instead\n",
            "\n",
            "See the caveats in the documentation: https://pandas.pydata.org/pandas-docs/stable/user_guide/indexing.html#returning-a-view-versus-a-copy\n",
            "  self[name] = value\n"
          ]
        }
      ]
    },
    {
      "cell_type": "code",
      "source": [
        "loan_missing_4 = loan_data_test_inst.Credit_History.median()\n",
        "loan_data_test_inst.Credit_History = loan_data_test_inst.Credit_History.fillna(loan_missing_4)"
      ],
      "metadata": {
        "colab": {
          "base_uri": "https://localhost:8080/"
        },
        "id": "FM1qbf_PE35v",
        "outputId": "89ab1cd1-cd73-4289-e515-2e89c6b9a390"
      },
      "execution_count": 21,
      "outputs": [
        {
          "output_type": "stream",
          "name": "stderr",
          "text": [
            "/usr/local/lib/python3.7/dist-packages/pandas/core/generic.py:5516: SettingWithCopyWarning: \n",
            "A value is trying to be set on a copy of a slice from a DataFrame.\n",
            "Try using .loc[row_indexer,col_indexer] = value instead\n",
            "\n",
            "See the caveats in the documentation: https://pandas.pydata.org/pandas-docs/stable/user_guide/indexing.html#returning-a-view-versus-a-copy\n",
            "  self[name] = value\n"
          ]
        }
      ]
    },
    {
      "cell_type": "code",
      "source": [
        "loan_data_test_inst.isnull().sum()"
      ],
      "metadata": {
        "colab": {
          "base_uri": "https://localhost:8080/"
        },
        "id": "KZqrbtGfFC3C",
        "outputId": "82d8029f-3624-4c26-fe5e-3d6f63d75b93"
      },
      "execution_count": 22,
      "outputs": [
        {
          "output_type": "execute_result",
          "data": {
            "text/plain": [
              "Dependents                 0\n",
              "ApplicantIncome            0\n",
              "CoapplicantIncome          0\n",
              "LoanAmount                 0\n",
              "Loan_Amount_Term           0\n",
              "Credit_History             0\n",
              "Gender_Female              0\n",
              "Gender_Male                0\n",
              "Gender_nan                 0\n",
              "Married_No                 0\n",
              "Married_Yes                0\n",
              "Married_nan                0\n",
              "Education_Graduate         0\n",
              "Education_Not Graduate     0\n",
              "Self_Employed_No           0\n",
              "Self_Employed_Yes          0\n",
              "Self_Employed_nan          0\n",
              "Property_Area_Rural        0\n",
              "Property_Area_Semiurban    0\n",
              "Property_Area_Urban        0\n",
              "dtype: int64"
            ]
          },
          "metadata": {},
          "execution_count": 22
        }
      ]
    },
    {
      "cell_type": "code",
      "source": [
        "x = loan_data_test_inst"
      ],
      "metadata": {
        "id": "_oLuYookDn7j"
      },
      "execution_count": 23,
      "outputs": []
    },
    {
      "cell_type": "code",
      "source": [
        "x_train, x_test, y_train, y_test = train_test_split(x, y, test_size=0.3,random_state=30)"
      ],
      "metadata": {
        "id": "_bMIWclQD9bn"
      },
      "execution_count": 24,
      "outputs": []
    },
    {
      "cell_type": "code",
      "source": [
        "scale_ins = StandardScaler()\n",
        "\n",
        "x_train_scaled = scale_ins.fit_transform(x_train)\n",
        "x_test_scaled = scale_ins.fit_transform(x_test)"
      ],
      "metadata": {
        "id": "xxlWWw5sEB6N"
      },
      "execution_count": 25,
      "outputs": []
    },
    {
      "cell_type": "code",
      "source": [
        "svm = SVC(kernel= 'linear', C=1, random_state=1, probability=True)\n",
        "svm.fit(x_train_scaled, y_train)"
      ],
      "metadata": {
        "colab": {
          "base_uri": "https://localhost:8080/"
        },
        "id": "s2Pt8vg1EGNj",
        "outputId": "05ab1de6-8e28-46f5-b071-5e5676e04ae5"
      },
      "execution_count": 26,
      "outputs": [
        {
          "output_type": "stream",
          "name": "stderr",
          "text": [
            "/usr/local/lib/python3.7/dist-packages/sklearn/utils/validation.py:993: DataConversionWarning: A column-vector y was passed when a 1d array was expected. Please change the shape of y to (n_samples, ), for example using ravel().\n",
            "  y = column_or_1d(y, warn=True)\n"
          ]
        },
        {
          "output_type": "execute_result",
          "data": {
            "text/plain": [
              "SVC(C=1, kernel='linear', probability=True, random_state=1)"
            ]
          },
          "metadata": {},
          "execution_count": 26
        }
      ]
    },
    {
      "cell_type": "code",
      "source": [
        "y_pred = svm.predict(x_test_scaled)\n",
        "accuracy = accuracy_score(y_test, y_pred)\n",
        "print('Accuracy = {:.1f}%'.format(accuracy*100))"
      ],
      "metadata": {
        "colab": {
          "base_uri": "https://localhost:8080/"
        },
        "id": "-FTFPWu6ELVU",
        "outputId": "050b1c50-ea51-467f-ae40-f54d7c42be29"
      },
      "execution_count": 27,
      "outputs": [
        {
          "output_type": "stream",
          "name": "stdout",
          "text": [
            "Accuracy = 80.0%\n"
          ]
        }
      ]
    },
    {
      "cell_type": "code",
      "source": [
        "mean_squared_error(y_test, y_pred)\n",
        "math.sqrt(mean_squared_error(y_test, y_pred))"
      ],
      "metadata": {
        "colab": {
          "base_uri": "https://localhost:8080/"
        },
        "id": "qtDaY-w8FUwR",
        "outputId": "79df250b-29e2-4954-cb28-223c9156449a"
      },
      "execution_count": 28,
      "outputs": [
        {
          "output_type": "execute_result",
          "data": {
            "text/plain": [
              "0.4472135954999579"
            ]
          },
          "metadata": {},
          "execution_count": 28
        }
      ]
    },
    {
      "cell_type": "code",
      "source": [
        "def predict_instance(svm, single_input):\n",
        "    input_ins = pd.DataFrame([single_input])\n",
        "    \n",
        "    input_ins[numerical_cols] = impute_ins.transform(input_ins[numerical_cols])\n",
        "    #input_ins[numerical_cols] = scale_ins.transform(input_ins[numerical_cols])\n",
        "    input_ins[cols_encode_ins] = encode_ins.transform(input_ins[categorical_cols])\n",
        "    \n",
        "    x_ins_input = input_ins[numerical_cols + cols_encode_ins]\n",
        "    \n",
        "    predictions = svm.predict(x_ins_input)[0]\n",
        "    probability = svm.predict_proba(x_ins_input)[0][list(svm.classes_).index(predictions)]\n",
        "    \n",
        "    return predictions, probability"
      ],
      "metadata": {
        "id": "gLzNDbT4FbQ8"
      },
      "execution_count": 29,
      "outputs": []
    },
    {
      "cell_type": "code",
      "source": [
        "single_instance_0 = {\n",
        "    'Gender' : 'Male', \n",
        "    'Married' : 'Yes',\n",
        "    'Dependents' : 5,\n",
        "    'Education' :  'Graduate', \n",
        "    'Self_Employed' : 'Yes', \n",
        "    'ApplicantIncome' : 30000, \n",
        "    'CoapplicantIncome' : 24000, \n",
        "    'LoanAmount' : 6000, \n",
        "    'Loan_Amount_Term' : 360, \n",
        "    'Credit_History' : 1, \n",
        "    'Property_Area' : 'Urban', \n",
        "    'Loan_Status' : 'Y'\n",
        "}"
      ],
      "metadata": {
        "id": "2MjOj88QF0dx"
      },
      "execution_count": 32,
      "outputs": []
    },
    {
      "cell_type": "code",
      "source": [
        "single_instance_1 = {\n",
        "    'Gender' : 'Male', \n",
        "    'Married' : 'No',\n",
        "    'Dependents' : 9,\n",
        "    'Education' :  'Not Graduate', \n",
        "    'Self_Employed' : 'Yes', \n",
        "    'ApplicantIncome' : 3000, \n",
        "    'CoapplicantIncome' : 200, \n",
        "    'LoanAmount' : 60000, \n",
        "    'Loan_Amount_Term' : 360, \n",
        "    'Credit_History' : 0, \n",
        "    'Property_Area' : 'Rural', \n",
        "    'Loan_Status' : 'N'\n",
        "}"
      ],
      "metadata": {
        "id": "j276V3uFFiv0"
      },
      "execution_count": 30,
      "outputs": []
    },
    {
      "cell_type": "code",
      "source": [
        "output_variable_0 = predict_instance(svm, single_instance_0)"
      ],
      "metadata": {
        "colab": {
          "base_uri": "https://localhost:8080/"
        },
        "id": "455eU10SFsqy",
        "outputId": "efe8a3f9-79bc-4a97-b87e-60b249fa293a"
      },
      "execution_count": 33,
      "outputs": [
        {
          "output_type": "stream",
          "name": "stderr",
          "text": [
            "/usr/local/lib/python3.7/dist-packages/sklearn/base.py:444: UserWarning: X has feature names, but SVC was fitted without feature names\n",
            "  f\"X has feature names, but {self.__class__.__name__} was fitted without\"\n",
            "/usr/local/lib/python3.7/dist-packages/sklearn/base.py:444: UserWarning: X has feature names, but SVC was fitted without feature names\n",
            "  f\"X has feature names, but {self.__class__.__name__} was fitted without\"\n"
          ]
        }
      ]
    },
    {
      "cell_type": "code",
      "source": [
        "output_variable_0 = predict_instance(svm, single_instance_0)\n",
        "output_variable_0"
      ],
      "metadata": {
        "colab": {
          "base_uri": "https://localhost:8080/"
        },
        "id": "z2QI17pCFwBQ",
        "outputId": "ebecc036-e7c2-485a-c3e4-48b0d3cef130"
      },
      "execution_count": 34,
      "outputs": [
        {
          "output_type": "stream",
          "name": "stderr",
          "text": [
            "/usr/local/lib/python3.7/dist-packages/sklearn/base.py:444: UserWarning: X has feature names, but SVC was fitted without feature names\n",
            "  f\"X has feature names, but {self.__class__.__name__} was fitted without\"\n",
            "/usr/local/lib/python3.7/dist-packages/sklearn/base.py:444: UserWarning: X has feature names, but SVC was fitted without feature names\n",
            "  f\"X has feature names, but {self.__class__.__name__} was fitted without\"\n"
          ]
        },
        {
          "output_type": "execute_result",
          "data": {
            "text/plain": [
              "(0, 0.9999998999999902)"
            ]
          },
          "metadata": {},
          "execution_count": 34
        }
      ]
    },
    {
      "cell_type": "code",
      "source": [
        "output_variable_1 = predict_instance(svm, single_instance_1)\n",
        "output_variable_1"
      ],
      "metadata": {
        "colab": {
          "base_uri": "https://localhost:8080/"
        },
        "id": "xsg86WT2GGsn",
        "outputId": "d85ef630-fba8-4a3e-8c07-a8d78d6f41a8"
      },
      "execution_count": 35,
      "outputs": [
        {
          "output_type": "stream",
          "name": "stderr",
          "text": [
            "/usr/local/lib/python3.7/dist-packages/sklearn/base.py:444: UserWarning: X has feature names, but SVC was fitted without feature names\n",
            "  f\"X has feature names, but {self.__class__.__name__} was fitted without\"\n",
            "/usr/local/lib/python3.7/dist-packages/sklearn/base.py:444: UserWarning: X has feature names, but SVC was fitted without feature names\n",
            "  f\"X has feature names, but {self.__class__.__name__} was fitted without\"\n"
          ]
        },
        {
          "output_type": "execute_result",
          "data": {
            "text/plain": [
              "(1, 0.9594288789827102)"
            ]
          },
          "metadata": {},
          "execution_count": 35
        }
      ]
    },
    {
      "cell_type": "code",
      "source": [
        ""
      ],
      "metadata": {
        "id": "67tgF7fcGPxT"
      },
      "execution_count": null,
      "outputs": []
    }
  ]
}